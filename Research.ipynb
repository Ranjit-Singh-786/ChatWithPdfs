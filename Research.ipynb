{
 "cells": [
  {
   "cell_type": "markdown",
   "metadata": {},
   "source": [
    "## ChatBot to (Chat with Pdfs) 🤖"
   ]
  },
  {
   "cell_type": "code",
   "execution_count": null,
   "metadata": {},
   "outputs": [
    {
     "data": {
      "text/plain": [
       "True"
      ]
     },
     "execution_count": 3,
     "metadata": {},
     "output_type": "execute_result"
    }
   ],
   "source": [
    "from langchain_openai import  OpenAI \n",
    "from langchain_community.document_loaders import  TextLoader\n",
    "from langchain.text_splitter import  RecursiveCharacterTextSplitter\n",
    "from langchain_openai import  OpenAIEmbeddings\n",
    "from langchain_community.vectorstores import FAISS\n",
    "from langchain_core.vectorstores import  VectorStoreRetriever \n",
    "from langchain.chains import RetrievalQA \n",
    "from langchain.prompts import PromptTemplate\n",
    "import os \n",
    "from dotenv import  load_dotenv\n",
    "from langchain_groq import ChatGroq \n",
    "load_dotenv()"
   ]
  },
  {
   "cell_type": "code",
   "execution_count": 31,
   "metadata": {},
   "outputs": [],
   "source": [
    "groq_api_key= os.getenv('GROQ_CLOUD_API')"
   ]
  },
  {
   "cell_type": "code",
   "execution_count": 32,
   "metadata": {},
   "outputs": [],
   "source": [
    "model_name = \"llama-3.1-70b-versatile\"\n",
    "llm = ChatGroq(temperature=0.7,\n",
    "                groq_api_key=groq_api_key,\n",
    "                model_name=model_name)"
   ]
  },
  {
   "cell_type": "code",
   "execution_count": 6,
   "metadata": {},
   "outputs": [
    {
     "name": "stdout",
     "output_type": "stream",
     "text": [
      "The first person to land on the moon was Neil Armstrong. He stepped onto the lunar surface on July 20, 1969, as part of the Apollo 11 mission.\n"
     ]
    }
   ],
   "source": [
    "response = llm.invoke(\"The first person land on moon was?\")\n",
    "print(response.content)"
   ]
  },
  {
   "cell_type": "code",
   "execution_count": null,
   "metadata": {},
   "outputs": [
    {
     "name": "stdout",
     "output_type": "stream",
     "text": [
      "Text extraction successful!\n",
      "Text extraction successful!\n"
     ]
    }
   ],
   "source": [
    "from PyPDF2 import PdfReader\n",
    "\n",
    "def extract_text_from_pdf(pdf_path):\n",
    "\n",
    "    try:\n",
    "        # Open the PDF file\n",
    "        pdf_reader = PdfReader(pdf_path)\n",
    "        \n",
    "        # Extract text from each page\n",
    "        extracted_text = \"\"\n",
    "        for page in pdf_reader.pages:\n",
    "            extracted_text += page.extract_text()\n",
    "        \n",
    "        print(\"Text extraction successful!\")\n",
    "        return extracted_text\n",
    "    except Exception as e:\n",
    "        print(f\"Error: {e}\")\n",
    "        return \"\"\n",
    "pdf_files = [\"pdf1.pdf\",\"pdf2.pdf\"]\n"
   ]
  },
  {
   "cell_type": "code",
   "execution_count": 29,
   "metadata": {},
   "outputs": [
    {
     "name": "stdout",
     "output_type": "stream",
     "text": [
      "Text extraction successful!\n",
      "Text extraction successful!\n",
      "splitted text into chunks!\n"
     ]
    }
   ],
   "source": [
    "\n",
    "def get_text_chunks(text):\n",
    "    text_splitter = RecursiveCharacterTextSplitter(chunk_size=1000, chunk_overlap=30)\n",
    "    chunks = text_splitter.split_text(text)\n",
    "    print(\"splitted text into chunks!\")\n",
    "    return chunks\n",
    "\n",
    "def get_vector_store(text_chunks):\n",
    "    embedings = OpenAIEmbeddings(api_key=os.getenv(\"gpt_api_key\"))\n",
    "    vector_store = FAISS.from_texts(text_chunks, embedding=embedings)\n",
    "    vector_store.save_local(\"faiss_index\")\n",
    "    return vector_store\n",
    "\n",
    "\n",
    "\n",
    "text = \"\"\n",
    "for path in pdf_files:\n",
    "    raw_text = extract_text_from_pdf(pdf_path=path)\n",
    "    text += raw_text\n",
    "\n",
    "chunks = get_text_chunks(text) \n",
    "vector_store = get_vector_store(chunks)"
   ]
  },
  {
   "cell_type": "code",
   "execution_count": 30,
   "metadata": {},
   "outputs": [
    {
     "name": "stdout",
     "output_type": "stream",
     "text": [
      "A camera that sees and understands your world. With a new, evolved EOS iTR (Intelligent Tracking & Recognition)\n",
      "AF X using deep learning technology, subject detection of the EOS R3 is faster and smarter than ever.\n",
      "New Vehicle Priority AF\n",
      "This revolutionary new breakthrough in AF technology now allows for detection and recognition of fast-moving\n",
      "automobiles and motorcycles in motorsports. The EOS R3 is capable of overall detection of the vehicle and also\n",
      "more speci\u0000c focus of the driver’s helmet using spot detection.\n",
      "Enhanced Eye Detection AF\n",
      "Performance\n",
      "Subject detection precision has also been\n",
      "enhanced for humans.\n",
      "Eye Detection AF is possible even when the\n",
      "subject’s face is obscured by shadow, hair,\n",
      "make-up or a face mask.  Head detection is alsoAnimal Detection AF\n",
      "First introduced in the EOS R5, Animal\n",
      "Detection AF is also available on the EOS R3,\n",
      "allowing for detection and tracking of the body,\n",
      "face or eye of dogs, cats and birds.\n",
      "possible for athletes wearing goggles or face\n"
     ]
    }
   ],
   "source": [
    "query_answer = vector_store.similarity_search(\"This revolutionary new breakthrough in AF technology \")\n",
    "page_content = query_answer[0].page_content\n",
    "\n",
    "# Split the content at \"Answer:\" and get the part after it\n",
    "# answer = page_content.split(\"Answer:\")[1].strip()\n",
    "\n",
    "print(page_content)\n"
   ]
  },
  {
   "cell_type": "code",
   "execution_count": 33,
   "metadata": {},
   "outputs": [
    {
     "name": "stdout",
     "output_type": "stream",
     "text": [
      "I can provide some information about the EOS R3 specifications based on the given context. Here are a few:\n",
      "\n",
      "1. Image Sensor: Approximately 24.1-megapixel back-illuminated stacked CMOS sensor\n",
      "2. Image Processor: DIGIC X\n",
      "3. Autofocus: Eye Control AF + New Vehicle Priority AF\n",
      "4. Continuous Shooting: Up to 30 fps with AF/AE tracking\n",
      "5. Video Recording: 6K RAW recording + 4K movie with 6K oversampling\n",
      "6. Electronic Viewfinder (EVF): Approximately 5.76-million-dot 1.27cm (0.5in) OLED EVF with up to 120 fps refresh rate\n",
      "7. LCD Screen: 4.15-million-dot 8.1cm (3.2in) high-definition articulating touchscreen LCD\n",
      "8. Shutter: Highly durable shutter capable of shooting up to 500,000 cycles, with silent shutter mode\n",
      "9. Battery: Long-lasting high-capacity lithium-ion battery (same as the EOS-1D X series)\n",
      "10. Image Stabilization: 5-axis in-body image stabilization (IS), with up to 8 stops of image stabilization possible when combined with compatible RF lenses\n",
      "11. ISO Sensitivity: Normal ISO speed range of 100 to 102,400 (expandable to L: 50 and H: 204,800)\n",
      "\n",
      "Please note that this is not a comprehensive list of all the specifications, and there may be other specifications not mentioned here.\n"
     ]
    }
   ],
   "source": [
    "retriever = vector_store.as_retriever(score_threshold=0.8)\n",
    "query_chain = RetrievalQA.from_chain_type(llm=llm, chain_type='stuff',retriever=retriever)\n",
    "query = \"Tell me about EOS R3 specifications.\"\n",
    "response = query_chain.invoke(query)\n",
    "print(response['result'])"
   ]
  },
  {
   "cell_type": "code",
   "execution_count": null,
   "metadata": {},
   "outputs": [
    {
     "name": "stderr",
     "output_type": "stream",
     "text": [
      "C:\\Users\\Ranjit\\AppData\\Local\\Temp\\ipykernel_8932\\2106802554.py:27: LangChainDeprecationWarning: The method `Chain.__call__` was deprecated in langchain 0.1.0 and will be removed in 1.0. Use :meth:`~invoke` instead.\n",
      "  print(chain(\"How we can print hello world?\")['result'])\n"
     ]
    },
    {
     "name": "stdout",
     "output_type": "stream",
     "text": [
      "Answer is not available in the context.\n"
     ]
    }
   ],
   "source": [
    "def get_qa_chain(retriever):\n",
    "\n",
    "    prompt_template = \"\"\"\n",
    "    Answer the question as detailed as possible from the provided context, make sure to provide all the details, if the answer is not in\n",
    "    provided context just say, \"answer is not available in the context\", don't provide the wrong answer\\n\\n\n",
    "    Context:\\n {context}?\\n\n",
    "    Question: \\n{question}\\n\n",
    "\n",
    "    Answer:\n",
    "    \"\"\"\n",
    "\n",
    "    PROMPT = PromptTemplate(\n",
    "        template=prompt_template, input_variables=[\"context\",\"question\"]\n",
    "    )\n",
    "\n",
    "    chain = RetrievalQA.from_chain_type(llm=llm,\n",
    "                                        chain_type=\"stuff\",\n",
    "                                        retriever=retriever,\n",
    "                                        input_key=\"query\",\n",
    "                                        return_source_documents=True,\n",
    "                                        chain_type_kwargs={\"prompt\": PROMPT})\n",
    "\n",
    "    return chain\n",
    "\n",
    "\n",
    "#  QUESTION 1:\n",
    "chain = get_qa_chain(retriever) \n",
    "print(chain(\"How we can print hello world?\")['result'])\n"
   ]
  },
  {
   "cell_type": "code",
   "execution_count": null,
   "metadata": {},
   "outputs": [
    {
     "name": "stdout",
     "output_type": "stream",
     "text": [
      "Answer is not available in the context\n"
     ]
    }
   ],
   "source": [
    "#  QUESTION 2:\n",
    "print(chain(\"who is the prime minister of india?\")['result'])"
   ]
  },
  {
   "cell_type": "code",
   "execution_count": null,
   "metadata": {},
   "outputs": [
    {
     "name": "stdout",
     "output_type": "stream",
     "text": [
      "The EOS R3 is equipped with a new approximately 24.1-megapixel back-illuminated stacked CMOS sensor combined with DIGIC X image processor for the first time, allowing for high-speed readout and high image quality with low noise.\n"
     ]
    }
   ],
   "source": [
    "#  QUESTION 3:\n",
    "print(chain(\"Tell me about something Superior Image Quality of EOS r3\")['result'])"
   ]
  },
  {
   "cell_type": "code",
   "execution_count": null,
   "metadata": {},
   "outputs": [
    {
     "name": "stdout",
     "output_type": "stream",
     "text": [
      "The EOS R3 is equipped with 5-axis in-body image stabilisation (IS). This feature suppresses blurriness caused by camera shake, increasing the possibilities for handheld shooting, low-light shooting, and long exposure shooting. When combined with the optical image stabilizer of compatible RF lenses, up to 8 stops of image stabilisation can be achieved via Coordinated Control IS.\n"
     ]
    }
   ],
   "source": [
    "#  QUESTION 4:\n",
    "print(chain(\"Powerful In-Body Image Stabilisation\")['result'])"
   ]
  },
  {
   "cell_type": "code",
   "execution_count": 39,
   "metadata": {},
   "outputs": [
    {
     "name": "stdout",
     "output_type": "stream",
     "text": [
      "User 🙂 : what level of High ISO Sensitivity\n",
      "Boat 🤖 :  The EOS R3 has a wide normal ISO speed range of 100 to 102,400 (expandable to L: 50 and H: 204,800), allowing for clean low-noise images even in low-light situations.\n"
     ]
    }
   ],
   "source": [
    "#  You can write your question -----\n",
    "question = input(\"write your question : \")\n",
    "print(\"User 🙂 :\",question)\n",
    "print(\"Boat 🤖 : \",chain(question)['result'])\n"
   ]
  },
  {
   "cell_type": "markdown",
   "metadata": {},
   "source": [
    "### ✨ Thank you for giving me the opportunity to prove myself. I truly appreciate it! 🙏"
   ]
  }
 ],
 "metadata": {
  "kernelspec": {
   "display_name": "Python 3",
   "language": "python",
   "name": "python3"
  },
  "language_info": {
   "codemirror_mode": {
    "name": "ipython",
    "version": 3
   },
   "file_extension": ".py",
   "mimetype": "text/x-python",
   "name": "python",
   "nbconvert_exporter": "python",
   "pygments_lexer": "ipython3",
   "version": "3.12.4"
  }
 },
 "nbformat": 4,
 "nbformat_minor": 2
}
